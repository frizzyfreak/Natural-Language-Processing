{
  "nbformat": 4,
  "nbformat_minor": 0,
  "metadata": {
    "colab": {
      "provenance": [],
      "gpuType": "T4",
      "include_colab_link": true
    },
    "kernelspec": {
      "name": "python3",
      "display_name": "Python 3"
    },
    "language_info": {
      "name": "python"
    },
    "accelerator": "GPU"
  },
  "cells": [
    {
      "cell_type": "markdown",
      "metadata": {
        "id": "view-in-github",
        "colab_type": "text"
      },
      "source": [
        "<a href=\"https://colab.research.google.com/github/frizzyfreak/Natural-Language-Processing/blob/main/2_Functional_API%2BModel_Subclassing.ipynb\" target=\"_parent\"><img src=\"https://colab.research.google.com/assets/colab-badge.svg\" alt=\"Open In Colab\"/></a>"
      ]
    },
    {
      "cell_type": "code",
      "execution_count": 7,
      "metadata": {
        "id": "M3DYIPNioFiK"
      },
      "outputs": [],
      "source": [
        "import tensorflow as tf\n",
        "from tensorflow import keras\n",
        "from tensorflow.keras import Sequential,layers\n",
        "from tensorflow.keras.datasets import mnist"
      ]
    },
    {
      "cell_type": "code",
      "source": [
        "(x_train,y_train),(x_test,y_test)=mnist.load_data()"
      ],
      "metadata": {
        "id": "spYx79UMoWRW"
      },
      "execution_count": 8,
      "outputs": []
    },
    {
      "cell_type": "code",
      "source": [
        "x_train=x_train.reshape(-1,28*28)/255.0\n",
        "x_test=x_test.reshape(-1,28*28)/255.0\n"
      ],
      "metadata": {
        "id": "Jx1_DmZ7oeHl"
      },
      "execution_count": 9,
      "outputs": []
    },
    {
      "cell_type": "code",
      "source": [],
      "metadata": {
        "id": "bUpQKrX3p9Lh"
      },
      "execution_count": 9,
      "outputs": []
    },
    {
      "cell_type": "code",
      "source": [
        "from sklearn.model_selection import train_test_split\n",
        "x_train,x_val,y_train,y_val=train_test_split(x_train,y_train,test_size=0.25,random_state=42)"
      ],
      "metadata": {
        "id": "cCx4weS6prID"
      },
      "execution_count": 10,
      "outputs": []
    },
    {
      "cell_type": "code",
      "source": [
        "#Functional API\n",
        "inputs=keras.Input(shape=(784,))\n",
        "x=layers.Dense(512,activation='relu',name='first_hidden_layer')(inputs)\n",
        "x=layers.Dense(256,activation='relu',name='second_hidden_layer')(x)\n",
        "outputs=layers.Dense(10,activation='softmax',name='output_layer')(x)\n",
        "model=keras.Model(inputs=inputs,outputs=outputs)"
      ],
      "metadata": {
        "id": "mO200exsomzH"
      },
      "execution_count": 11,
      "outputs": []
    },
    {
      "cell_type": "code",
      "source": [
        "model.compile(loss=keras.losses.SparseCategoricalCrossentropy(),\n",
        "              optimizer=keras.optimizers.Adam(learning_rate=0.001),\n",
        "              metrics=['accuracy'])"
      ],
      "metadata": {
        "id": "FmlGtiSIpMYf"
      },
      "execution_count": 12,
      "outputs": []
    },
    {
      "cell_type": "code",
      "source": [
        "model.fit(x_train,y_train,epochs=5,verbose=2,batch_size=64,validation_data=(x_val,y_val))"
      ],
      "metadata": {
        "colab": {
          "base_uri": "https://localhost:8080/"
        },
        "id": "UGtf9IBipluY",
        "outputId": "96d1cb03-68d0-453e-a3f1-f07ba8c65bfc"
      },
      "execution_count": 13,
      "outputs": [
        {
          "output_type": "stream",
          "name": "stdout",
          "text": [
            "Epoch 1/5\n",
            "704/704 - 6s - 9ms/step - accuracy: 0.9333 - loss: 0.2251 - val_accuracy: 0.9649 - val_loss: 0.1199\n",
            "Epoch 2/5\n",
            "704/704 - 2s - 3ms/step - accuracy: 0.9724 - loss: 0.0888 - val_accuracy: 0.9713 - val_loss: 0.0970\n",
            "Epoch 3/5\n",
            "704/704 - 2s - 3ms/step - accuracy: 0.9820 - loss: 0.0541 - val_accuracy: 0.9747 - val_loss: 0.0845\n",
            "Epoch 4/5\n",
            "704/704 - 3s - 5ms/step - accuracy: 0.9866 - loss: 0.0419 - val_accuracy: 0.9755 - val_loss: 0.0857\n",
            "Epoch 5/5\n",
            "704/704 - 2s - 3ms/step - accuracy: 0.9898 - loss: 0.0323 - val_accuracy: 0.9708 - val_loss: 0.1011\n"
          ]
        },
        {
          "output_type": "execute_result",
          "data": {
            "text/plain": [
              "<keras.src.callbacks.history.History at 0x7fd753496990>"
            ]
          },
          "metadata": {},
          "execution_count": 13
        }
      ]
    },
    {
      "cell_type": "code",
      "source": [
        "model.evaluate(x_test,y_test)"
      ],
      "metadata": {
        "colab": {
          "base_uri": "https://localhost:8080/"
        },
        "id": "pcMTci3lrOyR",
        "outputId": "5ac860f0-4e40-4fcd-e446-86e51da9b861"
      },
      "execution_count": 14,
      "outputs": [
        {
          "output_type": "stream",
          "name": "stdout",
          "text": [
            "\u001b[1m313/313\u001b[0m \u001b[32m━━━━━━━━━━━━━━━━━━━━\u001b[0m\u001b[37m\u001b[0m \u001b[1m1s\u001b[0m 3ms/step - accuracy: 0.9684 - loss: 0.1047\n"
          ]
        },
        {
          "output_type": "execute_result",
          "data": {
            "text/plain": [
              "[0.09300936013460159, 0.972599983215332]"
            ]
          },
          "metadata": {},
          "execution_count": 14
        }
      ]
    },
    {
      "cell_type": "code",
      "source": [
        "#sub-classing\n",
        "class MyModel(keras.Model):\n",
        "  def __init__(self,num_classes=10):\n",
        "    super(MyModel,self).__init__()\n",
        "    self.dense1=layers.Dense(512,activation='relu')\n",
        "    self.dense2=layers.Dense(256,activation='relu')\n",
        "    self.dense3=layers.Dense(num_classes)\n",
        "  def call(self,inputs):\n",
        "    x=self.dense1(inputs)\n",
        "    x=self.dense2(x)\n",
        "    x=self.dense3(x)\n",
        "    return x"
      ],
      "metadata": {
        "id": "91Tf4DKSqK7c"
      },
      "execution_count": 15,
      "outputs": []
    },
    {
      "cell_type": "markdown",
      "source": [
        "\n",
        "1.   MyModel is a custom class that inherits from keras.Model, allowing you to define your own layers and forward pass logic.\n",
        "\n",
        "2. The __init__ method initializes the model's layers and other components.\n",
        "3. super(MyModel, self).__init__():Calls the constructor of the parent class (keras.Model) to initialize inherited functionality.\n",
        "\n"
      ],
      "metadata": {
        "id": "PbCOvDIOtkcn"
      }
    },
    {
      "cell_type": "code",
      "source": [
        "model1=MyModel()"
      ],
      "metadata": {
        "id": "WfQe3jGIrpmJ"
      },
      "execution_count": 16,
      "outputs": []
    },
    {
      "cell_type": "code",
      "source": [
        "model1.compile(loss=keras.losses.SparseCategoricalCrossentropy(from_logits=True),\n",
        "              optimizer=keras.optimizers.Adam(learning_rate=0.001),\n",
        "              metrics=['accuracy'])"
      ],
      "metadata": {
        "id": "5Uavg4dOrsHe"
      },
      "execution_count": 17,
      "outputs": []
    },
    {
      "cell_type": "code",
      "source": [
        "model1.fit(x_train,y_train,epochs=5,verbose=2,batch_size=64,validation_data=(x_val,y_val))"
      ],
      "metadata": {
        "colab": {
          "base_uri": "https://localhost:8080/"
        },
        "id": "L6PxHXZ7r2_G",
        "outputId": "4e0a6d15-3c5f-4787-d9a9-ed95f1bde6f3"
      },
      "execution_count": 18,
      "outputs": [
        {
          "output_type": "stream",
          "name": "stdout",
          "text": [
            "Epoch 1/5\n",
            "704/704 - 5s - 7ms/step - accuracy: 0.9331 - loss: 0.2250 - val_accuracy: 0.9645 - val_loss: 0.1163\n",
            "Epoch 2/5\n",
            "704/704 - 3s - 4ms/step - accuracy: 0.9732 - loss: 0.0866 - val_accuracy: 0.9707 - val_loss: 0.0918\n",
            "Epoch 3/5\n",
            "704/704 - 5s - 6ms/step - accuracy: 0.9823 - loss: 0.0566 - val_accuracy: 0.9711 - val_loss: 0.0997\n",
            "Epoch 4/5\n",
            "704/704 - 2s - 3ms/step - accuracy: 0.9872 - loss: 0.0401 - val_accuracy: 0.9723 - val_loss: 0.0931\n",
            "Epoch 5/5\n",
            "704/704 - 2s - 3ms/step - accuracy: 0.9899 - loss: 0.0321 - val_accuracy: 0.9777 - val_loss: 0.0809\n"
          ]
        },
        {
          "output_type": "execute_result",
          "data": {
            "text/plain": [
              "<keras.src.callbacks.history.History at 0x7fd7501e9490>"
            ]
          },
          "metadata": {},
          "execution_count": 18
        }
      ]
    },
    {
      "cell_type": "code",
      "source": [
        "model1.evaluate(x_test,y_test)"
      ],
      "metadata": {
        "colab": {
          "base_uri": "https://localhost:8080/"
        },
        "id": "SbFRgQZnr5oi",
        "outputId": "5ecfddc5-b7df-47b8-9537-f1def39d2e91"
      },
      "execution_count": 19,
      "outputs": [
        {
          "output_type": "stream",
          "name": "stdout",
          "text": [
            "\u001b[1m313/313\u001b[0m \u001b[32m━━━━━━━━━━━━━━━━━━━━\u001b[0m\u001b[37m\u001b[0m \u001b[1m2s\u001b[0m 4ms/step - accuracy: 0.9740 - loss: 0.0908\n"
          ]
        },
        {
          "output_type": "execute_result",
          "data": {
            "text/plain": [
              "[0.07555363327264786, 0.9778000116348267]"
            ]
          },
          "metadata": {},
          "execution_count": 19
        }
      ]
    },
    {
      "cell_type": "code",
      "source": [],
      "metadata": {
        "id": "XU9RJkIRtD_E"
      },
      "execution_count": 19,
      "outputs": []
    }
  ]
}